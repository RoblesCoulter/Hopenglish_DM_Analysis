{
 "cells": [
  {
   "cell_type": "code",
   "execution_count": 142,
   "metadata": {
    "collapsed": false
   },
   "outputs": [
    {
     "name": "stdout",
     "output_type": "stream",
     "text": [
      "/Users/roblescoulter/Dev/Hopenglish_DM_Analysis\n"
     ]
    }
   ],
   "source": [
    "cd '/Users/roblescoulter/Dev/Hopenglish_DM_Analysis'"
   ]
  },
  {
   "cell_type": "code",
   "execution_count": 143,
   "metadata": {
    "collapsed": false
   },
   "outputs": [],
   "source": [
    "import pandas as pd\n",
    "import pyfpgrowth as pgrowth\n",
    "import numpy as np\n",
    "from collections import Counter\n",
    "from itertools import chain\n",
    "import matplotlib.pyplot as plt\n",
    "import numpy as np\n",
    "from functools import reduce\n",
    "import matplotlib.mlab as mlab"
   ]
  },
  {
   "cell_type": "code",
   "execution_count": 159,
   "metadata": {
    "collapsed": false
   },
   "outputs": [],
   "source": [
    "sb1 = pd.read_json('studentBehaviorInfo_1.json')\n",
    "sb2 = pd.read_json('studentBehaviorInfo_2.json')\n",
    "word_data = pd.read_json(\"videoData_vs_WordList.json\")\n",
    "vid_data = pd.read_csv('videoDataInfo.csv')\n",
    "sb = pd.concat([sb1,sb2],ignore_index=True)\n",
    "#sb.set_index(['memberId'])"
   ]
  },
  {
   "cell_type": "code",
   "execution_count": 160,
   "metadata": {
    "collapsed": false
   },
   "outputs": [
    {
     "data": {
      "text/plain": [
       "0                         {3913: [0, nan, nan, nan, nan]}\n",
       "1       {5793: [nan, nan, nan], 4802: [99, 92, 95, 99,...\n",
       "2       {5186: [93, 94, 93], 5797: [nan, nan, nan, nan...\n",
       "3       {5797: [63, 76, 56, 40, 62], 4802: [59, 71, 78...\n",
       "4                         {3913: [0, nan, nan, nan, nan]}\n",
       "5       {3913: [86, 86, 93, 87, 81], 3711: [69, 62, na...\n",
       "6       {3585: [88, 93, 93, 88, 95, 91, 84, 84, 93, 90...\n",
       "7       {3913: [13, 7, 0, 7, 14], 9770: [nan, nan], 98...\n",
       "8                                                      {}\n",
       "9       {5186: [97, 92, 97], 4163: [92, 94, 87, 87, 94...\n",
       "10      {8545: [93, 87, 94, 83, 80, 83], 5186: [98, 86...\n",
       "11      {3913: [99, 94, 96, 96, 94], 9626: [nan, nan, ...\n",
       "12                        {3913: [0, nan, nan, nan, nan]}\n",
       "13      {3913: [81, 83, 91, 90, 88], 11698: [68, 82, 5...\n",
       "14      {4013: [92, 91, 98, 97, 91], 5186: [95, 95, 97...\n",
       "15      {4802: [93, 96, 99, 99, 95, 98], 4163: [96, 97...\n",
       "16                        {3913: [0, nan, nan, nan, nan]}\n",
       "17      {3913: [80, 88, 69, 98, 83], 3711: [nan, nan, ...\n",
       "18                        {3589: [0, nan, nan, nan, nan]}\n",
       "19                        {3913: [0, nan, nan, nan, nan]}\n",
       "20      {3913: [86, 87, 86, 88, 81], 7130: [nan, nan, ...\n",
       "21      {3913: [61, 45, 71, 64, 54], 10250: [83, 83, 8...\n",
       "22                        {3913: [0, nan, nan, nan, nan]}\n",
       "23      {3913: [88, 69, 96, nan, nan], 3711: [nan, nan...\n",
       "24      {12127: [nan, nan, nan], 10019: [90, 97, 97], ...\n",
       "25                                                     {}\n",
       "26                        {3913: [0, nan, nan, nan, nan]}\n",
       "27                        {3913: [0, nan, nan, nan, nan]}\n",
       "28      {3913: [97, 95, 97, 98, nan], 3711: [nan, nan,...\n",
       "29                                                     {}\n",
       "                              ...                        \n",
       "3970    {3913: [92, 94, 89, 96, 82], 10026: [73, 95, 9...\n",
       "3971    {3913: [96, 78, 99, 95, 65], 10250: [94, nan, ...\n",
       "3972    {3913: [94, 89, 93, 94, 95], 11698: [90, nan, ...\n",
       "3973    {4336: [nan, nan, nan, nan, nan, nan, nan, nan...\n",
       "3974                                                   {}\n",
       "3975                      {3913: [0, nan, nan, nan, nan]}\n",
       "3976    {8545: [73, 68, 68, 60, 54, 74], 5186: [92, 78...\n",
       "3977                      {3913: [0, nan, nan, nan, nan]}\n",
       "3978    {12675: [87, 82, 83, 73, 100, 89, 91, 90], 113...\n",
       "3979    {3913: [83, 79, 93, 90, 90], 3585: [nan, nan, ...\n",
       "3980    {3913: [28, 56, 65, 65, nan], 9771: [nan, nan,...\n",
       "3981    {5793: [nan, nan, nan], 3913: [40, 54, 87, 91,...\n",
       "3982    {3913: [94, 98, 98, 97, 97], 4561: [nan, nan, ...\n",
       "3983    {3913: [87, 87, 77, 77, nan], 8547: [nan, nan,...\n",
       "3984                      {3913: [0, nan, nan, nan, nan]}\n",
       "3985                                                   {}\n",
       "3986    {13392: [nan, nan, nan], 11857: [83, 93, 70, 9...\n",
       "3987    {3913: [94, 91, 98, 92, nan], 8547: [nan, nan,...\n",
       "3988                      {3913: [0, nan, nan, nan, nan]}\n",
       "3989    {6151: [97, 99, 96], 11624: [nan], 3913: [98, ...\n",
       "3990                      {3913: [0, nan, nan, nan, nan]}\n",
       "3991    {3913: [90, 98, 89, 89, 95], 8547: [86, 92, 91...\n",
       "3992                      {3913: [0, nan, nan, nan, nan]}\n",
       "3993    {3913: [75, 92, nan, nan, nan], 10565: [nan, n...\n",
       "3994    {10177: [94, 90, 87, 91, 96, 96, 84], 8547: [9...\n",
       "3995    {11857: [97, 88, 88, 94], 10177: [nan, nan, na...\n",
       "3996                                                   {}\n",
       "3997    {12675: [88, nan, nan, nan, nan, nan, nan, nan...\n",
       "3998                      {3913: [0, nan, nan, nan, nan]}\n",
       "3999                      {3913: [0, nan, nan, nan, nan]}\n",
       "Name: listenScore, dtype: object"
      ]
     },
     "execution_count": 160,
     "metadata": {},
     "output_type": "execute_result"
    }
   ],
   "source": [
    "def buildScore(scoreList):\n",
    "    res = {}\n",
    "    for a in scoreList:\n",
    "        value = a['score'] if a['score'] != -1 else np.nan\n",
    "        if a['postId'] in res:\n",
    "            res[a['postId']].append(value)  \n",
    "        else:\n",
    "            res[a['postId']] = [value]  \n",
    "    return res\n",
    "sb.listenScore.map(lambda x: buildScore(x))\n",
    "#np.nansum(result.get(#postId#))"
   ]
  },
  {
   "cell_type": "code",
   "execution_count": null,
   "metadata": {
    "collapsed": true
   },
   "outputs": [],
   "source": []
  }
 ],
 "metadata": {
  "anaconda-cloud": {},
  "kernelspec": {
   "display_name": "Python [default]",
   "language": "python",
   "name": "python3"
  },
  "language_info": {
   "codemirror_mode": {
    "name": "ipython",
    "version": 3
   },
   "file_extension": ".py",
   "mimetype": "text/x-python",
   "name": "python",
   "nbconvert_exporter": "python",
   "pygments_lexer": "ipython3",
   "version": "3.5.2"
  }
 },
 "nbformat": 4,
 "nbformat_minor": 1
}
