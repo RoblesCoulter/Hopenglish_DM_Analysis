{
 "cells": [
  {
   "cell_type": "code",
   "execution_count": 13,
   "metadata": {
    "collapsed": false
   },
   "outputs": [
    {
     "name": "stdout",
     "output_type": "stream",
     "text": [
      "C:\\Users\\rdolor\\Documents\\GitHub\\Hopenglish_DM_Analysis\n"
     ]
    }
   ],
   "source": [
    "cd 'C:\\Users\\rdolor\\Documents\\GitHub\\Hopenglish_DM_Analysis'"
   ]
  },
  {
   "cell_type": "code",
   "execution_count": 14,
   "metadata": {
    "collapsed": true
   },
   "outputs": [],
   "source": [
    "import pandas as pd\n",
    "import numpy as np\n",
    "from collections import Counter"
   ]
  },
  {
   "cell_type": "code",
   "execution_count": 15,
   "metadata": {
    "collapsed": true
   },
   "outputs": [],
   "source": [
    "sb1 = pd.read_json('studentBehaviorInfo_1.json')\n",
    "sb2 = pd.read_json('studentBehaviorInfo_2.json')\n",
    "vid = pd.read_csv('videoDataInfo.csv')"
   ]
  },
  {
   "cell_type": "code",
   "execution_count": 16,
   "metadata": {
    "collapsed": true
   },
   "outputs": [],
   "source": [
    "sb1 = pd.concat([sb1, sb2], ignore_index=True) #append sb2 to sb1"
   ]
  },
  {
   "cell_type": "code",
   "execution_count": 17,
   "metadata": {
    "collapsed": false
   },
   "outputs": [
    {
     "data": {
      "text/plain": [
       "4000"
      ]
     },
     "execution_count": 17,
     "metadata": {},
     "output_type": "execute_result"
    }
   ],
   "source": [
    "#is each row unique by memberId?? YES!\n",
    "len(([i for i in sb1.memberId]))"
   ]
  },
  {
   "cell_type": "code",
   "execution_count": 18,
   "metadata": {
    "collapsed": false
   },
   "outputs": [
    {
     "name": "stdout",
     "output_type": "stream",
     "text": [
      "Columns =  Index(['chosenVideo', 'listenScore', 'memberId', 'vocabularyList'], dtype='object') # of rows =  4000\n",
      "Columns =  Index(['chosenVideo', 'listenScore', 'memberId', 'vocabularyList'], dtype='object') # of rows =  2000\n"
     ]
    }
   ],
   "source": [
    "print('Columns = ',sb1.columns, '# of rows = ', len(sb1))\n",
    "print('Columns = ',sb2.columns, '# of rows = ', len(sb2))"
   ]
  },
  {
   "cell_type": "code",
   "execution_count": 23,
   "metadata": {
    "collapsed": false
   },
   "outputs": [
    {
     "data": {
      "text/html": [
       "<div>\n",
       "<table border=\"1\" class=\"dataframe\">\n",
       "  <thead>\n",
       "    <tr style=\"text-align: right;\">\n",
       "      <th></th>\n",
       "      <th>chosenVideo</th>\n",
       "      <th>listenScore</th>\n",
       "      <th>memberId</th>\n",
       "      <th>vocabularyList</th>\n",
       "    </tr>\n",
       "  </thead>\n",
       "  <tbody>\n",
       "    <tr>\n",
       "      <th>0</th>\n",
       "      <td>[3913]</td>\n",
       "      <td>[{'score': 0, 'postId': 3913}, {'score': -1, '...</td>\n",
       "      <td>27799</td>\n",
       "      <td>[{'word': 'Will Shakespeare', 'postId': '3913'...</td>\n",
       "    </tr>\n",
       "    <tr>\n",
       "      <th>1</th>\n",
       "      <td>[3913, 5186, 4165, 4802, 5433, 5793]</td>\n",
       "      <td>[{'score': 96, 'postId': 3913}, {'score': 94, ...</td>\n",
       "      <td>50644</td>\n",
       "      <td>[]</td>\n",
       "    </tr>\n",
       "    <tr>\n",
       "      <th>2</th>\n",
       "      <td>[3913, 5186, 4974, 4802, 3711, 5881, 7126, 5797]</td>\n",
       "      <td>[{'score': 93, 'postId': 3913}, {'score': 91, ...</td>\n",
       "      <td>50679</td>\n",
       "      <td>[{'word': 'devil', 'postId': '5797'}, {'word':...</td>\n",
       "    </tr>\n",
       "    <tr>\n",
       "      <th>3</th>\n",
       "      <td>[3913, 3711, 5186, 4165, 4802, 5806, 5433, 369...</td>\n",
       "      <td>[{'score': 97, 'postId': 3913}, {'score': 70, ...</td>\n",
       "      <td>22808</td>\n",
       "      <td>[{'word': 'planet', 'postId': '4802'}, {'word'...</td>\n",
       "    </tr>\n",
       "    <tr>\n",
       "      <th>4</th>\n",
       "      <td>[3913]</td>\n",
       "      <td>[{'score': 0, 'postId': 3913}, {'score': -1, '...</td>\n",
       "      <td>32785</td>\n",
       "      <td>[{'word': 'articulate', 'postId': '3913'}, {'w...</td>\n",
       "    </tr>\n",
       "    <tr>\n",
       "      <th>5</th>\n",
       "      <td>[3913, 3711]</td>\n",
       "      <td>[{'score': 86, 'postId': 3913}, {'score': 86, ...</td>\n",
       "      <td>6635</td>\n",
       "      <td>[{'word': 'Will Shakespeare', 'postId': '3913'...</td>\n",
       "    </tr>\n",
       "  </tbody>\n",
       "</table>\n",
       "</div>"
      ],
      "text/plain": [
       "                                         chosenVideo  \\\n",
       "0                                             [3913]   \n",
       "1               [3913, 5186, 4165, 4802, 5433, 5793]   \n",
       "2   [3913, 5186, 4974, 4802, 3711, 5881, 7126, 5797]   \n",
       "3  [3913, 3711, 5186, 4165, 4802, 5806, 5433, 369...   \n",
       "4                                             [3913]   \n",
       "5                                       [3913, 3711]   \n",
       "\n",
       "                                         listenScore  memberId  \\\n",
       "0  [{'score': 0, 'postId': 3913}, {'score': -1, '...     27799   \n",
       "1  [{'score': 96, 'postId': 3913}, {'score': 94, ...     50644   \n",
       "2  [{'score': 93, 'postId': 3913}, {'score': 91, ...     50679   \n",
       "3  [{'score': 97, 'postId': 3913}, {'score': 70, ...     22808   \n",
       "4  [{'score': 0, 'postId': 3913}, {'score': -1, '...     32785   \n",
       "5  [{'score': 86, 'postId': 3913}, {'score': 86, ...      6635   \n",
       "\n",
       "                                      vocabularyList  \n",
       "0  [{'word': 'Will Shakespeare', 'postId': '3913'...  \n",
       "1                                                 []  \n",
       "2  [{'word': 'devil', 'postId': '5797'}, {'word':...  \n",
       "3  [{'word': 'planet', 'postId': '4802'}, {'word'...  \n",
       "4  [{'word': 'articulate', 'postId': '3913'}, {'w...  \n",
       "5  [{'word': 'Will Shakespeare', 'postId': '3913'...  "
      ]
     },
     "execution_count": 23,
     "metadata": {},
     "output_type": "execute_result"
    }
   ],
   "source": [
    "sb1[:6]"
   ]
  },
  {
   "cell_type": "markdown",
   "metadata": {
    "collapsed": false
   },
   "source": [
    "### 1) Question: Can the number of postId in listenScore exceed the number of sections (sectionLength) of  a video? In other words, is there a member watching a video less/more than the sectionLength?"
   ]
  },
  {
   "cell_type": "code",
   "execution_count": 24,
   "metadata": {
    "collapsed": false
   },
   "outputs": [
    {
     "name": "stdout",
     "output_type": "stream",
     "text": [
      "[{'score': 86, 'postId': 3913}, {'score': 86, 'postId': 3913}, {'score': 93, 'postId': 3913}, {'score': 87, 'postId': 3913}, {'score': 81, 'postId': 3913}, {'score': 69, 'postId': 3711}, {'score': 62, 'postId': 3711}, {'score': -1, 'postId': 3711}, {'score': -1, 'postId': 3711}, {'score': -1, 'postId': 3711}, {'score': -1, 'postId': 3711}, {'score': -1, 'postId': 3711}]\n"
     ]
    }
   ],
   "source": [
    "#Example: MemberId = 6635, row 5\n",
    "entries = sb1.listenScore[5]\n",
    "print(entries)"
   ]
  },
  {
   "cell_type": "code",
   "execution_count": 25,
   "metadata": {
    "collapsed": false
   },
   "outputs": [
    {
     "data": {
      "text/plain": [
       "[{3913: 5}, {3711: 7}]"
      ]
     },
     "execution_count": 25,
     "metadata": {},
     "output_type": "execute_result"
    }
   ],
   "source": [
    "[{key: value} for key, value in (Counter(dicts['postId'] for dicts in entries)).items()]"
   ]
  },
  {
   "cell_type": "code",
   "execution_count": 26,
   "metadata": {
    "collapsed": true
   },
   "outputs": [],
   "source": [
    "sb1['videosCount'] = sb1.listenScore.map(lambda x: [{key:value} for key, value in (Counter(dicts['postId'] for dicts in x)).items()])"
   ]
  },
  {
   "cell_type": "code",
   "execution_count": 27,
   "metadata": {
    "collapsed": true
   },
   "outputs": [],
   "source": [
    "sb1['videosWatched'] = sb1.videosCount.map(lambda x: [j for i in x for j in i] )  #videos watched"
   ]
  },
  {
   "cell_type": "code",
   "execution_count": 28,
   "metadata": {
    "collapsed": false
   },
   "outputs": [],
   "source": [
    "sb1['videoCount3940'] = sb1.videosCount.map(lambda x: [i for i in x for j in i.keys() if j == 3940])\n",
    "sb1['videoCount4220'] = sb1.videosCount.map(lambda x: [i for i in x for j in i.keys() if j == 4220])\n",
    "sb1['videoCount3585'] = sb1.videosCount.map(lambda x: [i for i in x for j in i.keys() if j == 3585])\n",
    "sb1['videoCount4336'] = sb1.videosCount.map(lambda x: [i for i in x for j in i.keys() if j == 4336])\n",
    "sb1['videoCount8456'] = sb1.videosCount.map(lambda x: [i for i in x for j in i.keys() if j == 8456])\n",
    "sb1['videoCount4561'] = sb1.videosCount.map(lambda x: [i for i in x for j in i.keys() if j == 4561])\n",
    "sb1['videoCount4974'] = sb1.videosCount.map(lambda x: [i for i in x for j in i.keys() if j == 4974])\n",
    "sb1['videoCount10301'] = sb1.videosCount.map(lambda x: [i for i in x for j in i.keys() if j == 10301])\n",
    "sb1['videoCount10201'] = sb1.videosCount.map(lambda x: [i for i in x for j in i.keys() if j == 10201])\n",
    "sb1['videoCount10459'] = sb1.videosCount.map(lambda x: [i for i in x for j in i.keys() if j == 10459])\n",
    "sb1['videoCount10249'] = sb1.videosCount.map(lambda x: [i for i in x for j in i.keys() if j == 10249])\n",
    "sb1['videoCount13498'] = sb1.videosCount.map(lambda x: [i for i in x for j in i.keys() if j == 13498])\n",
    "sb1['videoCount3791'] = sb1.videosCount.map(lambda x: [i for i in x for j in i.keys() if j == 3791])\n",
    "sb1['videoCount5085'] = sb1.videosCount.map(lambda x: [i for i in x for j in i.keys() if j == 5085])\n",
    "sb1['videoCount5845'] = sb1.videosCount.map(lambda x: [i for i in x for j in i.keys() if j == 5845])\n",
    "sb1['videoCount10589'] = sb1.videosCount.map(lambda x: [i for i in x for j in i.keys() if j == 10589])\n",
    "sb1['videoCount12951'] = sb1.videosCount.map(lambda x: [i for i in x for j in i.keys() if j == 12951])\n",
    "sb1['videoCount7130'] = sb1.videosCount.map(lambda x: [i for i in x for j in i.keys() if j == 7130])\n",
    "sb1['videoCount9751'] = sb1.videosCount.map(lambda x: [i for i in x for j in i.keys() if j == 9751])\n",
    "sb1['videoCount11700'] = sb1.videosCount.map(lambda x: [i for i in x for j in i.keys() if j == 11700])\n",
    "sb1['videoCount12318'] = sb1.videosCount.map(lambda x: [i for i in x for j in i.keys() if j == 12318])\n",
    "sb1['videoCount12605'] = sb1.videosCount.map(lambda x: [i for i in x for j in i.keys() if j == 12605])\n",
    "sb1['videoCount12675'] = sb1.videosCount.map(lambda x: [i for i in x for j in i.keys() if j == 12675])\n",
    "sb1['videoCount3649'] = sb1.videosCount.map(lambda x: [i for i in x for j in i.keys() if j == 3649])\n",
    "sb1['videoCount3711'] = sb1.videosCount.map(lambda x: [i for i in x for j in i.keys() if j == 3711])\n",
    "sb1['videoCount4215'] = sb1.videosCount.map(lambda x: [i for i in x for j in i.keys() if j == 4215])\n",
    "sb1['videoCount6781'] = sb1.videosCount.map(lambda x: [i for i in x for j in i.keys() if j == 6781])\n",
    "sb1['videoCount9769'] = sb1.videosCount.map(lambda x: [i for i in x for j in i.keys() if j == 9769])\n",
    "sb1['videoCount10177'] = sb1.videosCount.map(lambda x: [i for i in x for j in i.keys() if j == 10177])\n",
    "sb1['videoCount12669'] = sb1.videosCount.map(lambda x: [i for i in x for j in i.keys() if j == 12669])\n",
    "sb1['videoCount12912'] = sb1.videosCount.map(lambda x: [i for i in x for j in i.keys() if j == 12912])\n",
    "sb1['videoCount14292'] = sb1.videosCount.map(lambda x: [i for i in x for j in i.keys() if j == 14292])\n",
    "sb1['videoCount14708'] = sb1.videosCount.map(lambda x: [i for i in x for j in i.keys() if j == 14708])\n",
    "sb1['videoCount3693'] = sb1.videosCount.map(lambda x: [i for i in x for j in i.keys() if j == 3693])\n",
    "sb1['videoCount4200'] = sb1.videosCount.map(lambda x: [i for i in x for j in i.keys() if j == 4200])\n",
    "sb1['videoCount4332'] = sb1.videosCount.map(lambda x: [i for i in x for j in i.keys() if j == 4332])\n",
    "sb1['videoCount4424'] = sb1.videosCount.map(lambda x: [i for i in x for j in i.keys() if j == 4424])\n",
    "sb1['videoCount4802'] = sb1.videosCount.map(lambda x: [i for i in x for j in i.keys() if j == 4802])\n",
    "sb1['videoCount5194'] = sb1.videosCount.map(lambda x: [i for i in x for j in i.keys() if j == 5194])\n",
    "sb1['videoCount5895'] = sb1.videosCount.map(lambda x: [i for i in x for j in i.keys() if j == 5895])\n",
    "sb1['videoCount8457'] = sb1.videosCount.map(lambda x: [i for i in x for j in i.keys() if j == 8457])\n",
    "sb1['videoCount8545'] = sb1.videosCount.map(lambda x: [i for i in x for j in i.keys() if j == 8545])\n",
    "sb1['videoCount8918'] = sb1.videosCount.map(lambda x: [i for i in x for j in i.keys() if j == 8918])\n",
    "sb1['videoCount9625'] = sb1.videosCount.map(lambda x: [i for i in x for j in i.keys() if j == 9625])\n",
    "sb1['videoCount9850'] = sb1.videosCount.map(lambda x: [i for i in x for j in i.keys() if j == 9850])\n",
    "sb1['videoCount10023'] = sb1.videosCount.map(lambda x: [i for i in x for j in i.keys() if j == 10023])\n",
    "sb1['videoCount10455'] = sb1.videosCount.map(lambda x: [i for i in x for j in i.keys() if j == 10455])\n",
    "sb1['videoCount10457'] = sb1.videosCount.map(lambda x: [i for i in x for j in i.keys() if j == 10457])\n",
    "sb1['videoCount10535'] = sb1.videosCount.map(lambda x: [i for i in x for j in i.keys() if j == 10535])\n",
    "sb1['videoCount10568'] = sb1.videosCount.map(lambda x: [i for i in x for j in i.keys() if j == 10568])\n",
    "sb1['videoCount12129'] = sb1.videosCount.map(lambda x: [i for i in x for j in i.keys() if j == 12129])\n",
    "sb1['videoCount12134'] = sb1.videosCount.map(lambda x: [i for i in x for j in i.keys() if j == 12134])\n",
    "sb1['videoCount12597'] = sb1.videosCount.map(lambda x: [i for i in x for j in i.keys() if j == 12597])\n",
    "sb1['videoCount12603'] = sb1.videosCount.map(lambda x: [i for i in x for j in i.keys() if j == 12603])\n",
    "sb1['videoCount12943'] = sb1.videosCount.map(lambda x: [i for i in x for j in i.keys() if j == 12943])\n",
    "sb1['videoCount13002'] = sb1.videosCount.map(lambda x: [i for i in x for j in i.keys() if j == 13002])\n",
    "sb1['videoCount13300'] = sb1.videosCount.map(lambda x: [i for i in x for j in i.keys() if j == 13300])\n",
    "sb1['videoCount13388'] = sb1.videosCount.map(lambda x: [i for i in x for j in i.keys() if j == 13388])\n",
    "sb1['videoCount14710'] = sb1.videosCount.map(lambda x: [i for i in x for j in i.keys() if j == 14710])\n",
    "sb1['videoCount14712'] = sb1.videosCount.map(lambda x: [i for i in x for j in i.keys() if j == 14712])\n",
    "sb1['videoCount2093'] = sb1.videosCount.map(lambda x: [i for i in x for j in i.keys() if j == 2093])\n",
    "sb1['videoCount3589'] = sb1.videosCount.map(lambda x: [i for i in x for j in i.keys() if j == 3589])\n",
    "sb1['videoCount3913'] = sb1.videosCount.map(lambda x: [i for i in x for j in i.keys() if j == 3913])\n",
    "sb1['videoCount4013'] = sb1.videosCount.map(lambda x: [i for i in x for j in i.keys() if j == 4013])\n",
    "sb1['videoCount4163'] = sb1.videosCount.map(lambda x: [i for i in x for j in i.keys() if j == 4163])\n",
    "sb1['videoCount4968'] = sb1.videosCount.map(lambda x: [i for i in x for j in i.keys() if j == 4968])\n",
    "sb1['videoCount5797'] = sb1.videosCount.map(lambda x: [i for i in x for j in i.keys() if j == 5797])\n",
    "sb1['videoCount8701'] = sb1.videosCount.map(lambda x: [i for i in x for j in i.keys() if j == 8701])\n",
    "sb1['videoCount8717'] = sb1.videosCount.map(lambda x: [i for i in x for j in i.keys() if j == 8717])\n",
    "sb1['videoCount9578'] = sb1.videosCount.map(lambda x: [i for i in x for j in i.keys() if j == 9578])\n",
    "sb1['videoCount9626'] = sb1.videosCount.map(lambda x: [i for i in x for j in i.keys() if j == 9626])\n",
    "sb1['videoCount10073'] = sb1.videosCount.map(lambda x: [i for i in x for j in i.keys() if j == 10073])\n",
    "sb1['videoCount10074'] = sb1.videosCount.map(lambda x: [i for i in x for j in i.keys() if j == 10074])\n",
    "sb1['videoCount10250'] = sb1.videosCount.map(lambda x: [i for i in x for j in i.keys() if j == 10250])\n",
    "sb1['videoCount10257'] = sb1.videosCount.map(lambda x: [i for i in x for j in i.keys() if j == 10257])\n",
    "sb1['videoCount10308'] = sb1.videosCount.map(lambda x: [i for i in x for j in i.keys() if j == 10308])\n",
    "sb1['videoCount10537'] = sb1.videosCount.map(lambda x: [i for i in x for j in i.keys() if j == 10537])\n",
    "sb1['videoCount10543'] = sb1.videosCount.map(lambda x: [i for i in x for j in i.keys() if j == 10543])\n",
    "sb1['videoCount10570'] = sb1.videosCount.map(lambda x: [i for i in x for j in i.keys() if j == 10570])\n",
    "sb1['videoCount11385'] = sb1.videosCount.map(lambda x: [i for i in x for j in i.keys() if j == 11385])\n",
    "sb1['videoCount11399'] = sb1.videosCount.map(lambda x: [i for i in x for j in i.keys() if j == 11399])\n",
    "sb1['videoCount11429'] = sb1.videosCount.map(lambda x: [i for i in x for j in i.keys() if j == 11429])\n",
    "sb1['videoCount11580'] = sb1.videosCount.map(lambda x: [i for i in x for j in i.keys() if j == 11580])\n",
    "sb1['videoCount11695'] = sb1.videosCount.map(lambda x: [i for i in x for j in i.keys() if j == 11695])\n",
    "sb1['videoCount12060'] = sb1.videosCount.map(lambda x: [i for i in x for j in i.keys() if j == 12060])\n",
    "sb1['videoCount12671'] = sb1.videosCount.map(lambda x: [i for i in x for j in i.keys() if j == 12671])\n",
    "sb1['videoCount12673'] = sb1.videosCount.map(lambda x: [i for i in x for j in i.keys() if j == 12673])\n",
    "sb1['videoCount12910'] = sb1.videosCount.map(lambda x: [i for i in x for j in i.keys() if j == 12910])\n",
    "sb1['videoCount13564'] = sb1.videosCount.map(lambda x: [i for i in x for j in i.keys() if j == 13564])\n",
    "sb1['videoCount13574'] = sb1.videosCount.map(lambda x: [i for i in x for j in i.keys() if j == 13574])\n",
    "sb1['videoCount13703'] = sb1.videosCount.map(lambda x: [i for i in x for j in i.keys() if j == 13703])\n",
    "sb1['videoCount13724'] = sb1.videosCount.map(lambda x: [i for i in x for j in i.keys() if j == 13724])\n",
    "sb1['videoCount13726'] = sb1.videosCount.map(lambda x: [i for i in x for j in i.keys() if j == 13726])\n",
    "sb1['videoCount14208'] = sb1.videosCount.map(lambda x: [i for i in x for j in i.keys() if j == 14208])\n",
    "sb1['videoCount14393'] = sb1.videosCount.map(lambda x: [i for i in x for j in i.keys() if j == 14393])\n",
    "sb1['videoCount14707'] = sb1.videosCount.map(lambda x: [i for i in x for j in i.keys() if j == 14707])\n",
    "sb1['videoCount3762'] = sb1.videosCount.map(lambda x: [i for i in x for j in i.keys() if j == 3762])\n",
    "sb1['videoCount4522'] = sb1.videosCount.map(lambda x: [i for i in x for j in i.keys() if j == 4522])\n",
    "sb1['videoCount7184'] = sb1.videosCount.map(lambda x: [i for i in x for j in i.keys() if j == 7184])\n",
    "sb1['videoCount8199'] = sb1.videosCount.map(lambda x: [i for i in x for j in i.keys() if j == 8199])\n",
    "sb1['videoCount8859'] = sb1.videosCount.map(lambda x: [i for i in x for j in i.keys() if j == 8859])\n",
    "sb1['videoCount9091'] = sb1.videosCount.map(lambda x: [i for i in x for j in i.keys() if j == 9091])\n",
    "sb1['videoCount9582'] = sb1.videosCount.map(lambda x: [i for i in x for j in i.keys() if j == 9582])\n",
    "sb1['videoCount9584'] = sb1.videosCount.map(lambda x: [i for i in x for j in i.keys() if j == 9584])\n",
    "sb1['videoCount10021'] = sb1.videosCount.map(lambda x: [i for i in x for j in i.keys() if j == 10021])\n",
    "sb1['videoCount10303'] = sb1.videosCount.map(lambda x: [i for i in x for j in i.keys() if j == 10303])\n",
    "sb1['videoCount10540'] = sb1.videosCount.map(lambda x: [i for i in x for j in i.keys() if j == 10540])\n",
    "sb1['videoCount10565'] = sb1.videosCount.map(lambda x: [i for i in x for j in i.keys() if j == 10565])\n",
    "sb1['videoCount11406'] = sb1.videosCount.map(lambda x: [i for i in x for j in i.keys() if j == 11406])\n",
    "sb1['videoCount11618'] = sb1.videosCount.map(lambda x: [i for i in x for j in i.keys() if j == 11618])\n",
    "sb1['videoCount11621'] = sb1.videosCount.map(lambda x: [i for i in x for j in i.keys() if j == 11621])\n",
    "sb1['videoCount11857'] = sb1.videosCount.map(lambda x: [i for i in x for j in i.keys() if j == 11857])\n",
    "sb1['videoCount12062'] = sb1.videosCount.map(lambda x: [i for i in x for j in i.keys() if j == 12062])\n",
    "sb1['videoCount12222'] = sb1.videosCount.map(lambda x: [i for i in x for j in i.keys() if j == 12222])\n",
    "sb1['videoCount12593'] = sb1.videosCount.map(lambda x: [i for i in x for j in i.keys() if j == 12593])\n",
    "sb1['videoCount12667'] = sb1.videosCount.map(lambda x: [i for i in x for j in i.keys() if j == 12667])\n",
    "sb1['videoCount12947'] = sb1.videosCount.map(lambda x: [i for i in x for j in i.keys() if j == 12947])\n",
    "sb1['videoCount12984'] = sb1.videosCount.map(lambda x: [i for i in x for j in i.keys() if j == 12984])\n",
    "sb1['videoCount12986'] = sb1.videosCount.map(lambda x: [i for i in x for j in i.keys() if j == 12986])\n",
    "sb1['videoCount13004'] = sb1.videosCount.map(lambda x: [i for i in x for j in i.keys() if j == 13004])\n",
    "sb1['videoCount13290'] = sb1.videosCount.map(lambda x: [i for i in x for j in i.keys() if j == 13290])\n",
    "sb1['videoCount13292'] = sb1.videosCount.map(lambda x: [i for i in x for j in i.keys() if j == 13292])\n",
    "sb1['videoCount13705'] = sb1.videosCount.map(lambda x: [i for i in x for j in i.keys() if j == 13705])\n",
    "sb1['videoCount13731'] = sb1.videosCount.map(lambda x: [i for i in x for j in i.keys() if j == 13731])\n",
    "sb1['videoCount14033'] = sb1.videosCount.map(lambda x: [i for i in x for j in i.keys() if j == 14033])\n",
    "sb1['videoCount14293'] = sb1.videosCount.map(lambda x: [i for i in x for j in i.keys() if j == 14293])\n",
    "sb1['videoCount14294'] = sb1.videosCount.map(lambda x: [i for i in x for j in i.keys() if j == 14294])\n",
    "sb1['videoCount14709'] = sb1.videosCount.map(lambda x: [i for i in x for j in i.keys() if j == 14709])\n",
    "sb1['videoCount50'] = sb1.videosCount.map(lambda x: [i for i in x for j in i.keys() if j == 50])\n",
    "sb1['videoCount5186'] = sb1.videosCount.map(lambda x: [i for i in x for j in i.keys() if j == 5186])\n",
    "sb1['videoCount5433'] = sb1.videosCount.map(lambda x: [i for i in x for j in i.keys() if j == 5433])\n",
    "sb1['videoCount5793'] = sb1.videosCount.map(lambda x: [i for i in x for j in i.keys() if j == 5793])\n",
    "sb1['videoCount6061'] = sb1.videosCount.map(lambda x: [i for i in x for j in i.keys() if j == 6061])\n",
    "sb1['videoCount6151'] = sb1.videosCount.map(lambda x: [i for i in x for j in i.keys() if j == 6151])\n",
    "sb1['videoCount6460'] = sb1.videosCount.map(lambda x: [i for i in x for j in i.keys() if j == 6460])\n",
    "sb1['videoCount6521'] = sb1.videosCount.map(lambda x: [i for i in x for j in i.keys() if j == 6521])\n",
    "sb1['videoCount7126'] = sb1.videosCount.map(lambda x: [i for i in x for j in i.keys() if j == 7126])\n",
    "sb1['videoCount8200'] = sb1.videosCount.map(lambda x: [i for i in x for j in i.keys() if j == 8200])\n",
    "sb1['videoCount8547'] = sb1.videosCount.map(lambda x: [i for i in x for j in i.keys() if j == 8547])\n",
    "sb1['videoCount8700'] = sb1.videosCount.map(lambda x: [i for i in x for j in i.keys() if j == 8700])\n",
    "sb1['videoCount8854'] = sb1.videosCount.map(lambda x: [i for i in x for j in i.keys() if j == 8854])\n",
    "sb1['videoCount8917'] = sb1.videosCount.map(lambda x: [i for i in x for j in i.keys() if j == 8917])\n",
    "sb1['videoCount8919'] = sb1.videosCount.map(lambda x: [i for i in x for j in i.keys() if j == 8919])\n",
    "sb1['videoCount9580'] = sb1.videosCount.map(lambda x: [i for i in x for j in i.keys() if j == 9580])\n",
    "sb1['videoCount9771'] = sb1.videosCount.map(lambda x: [i for i in x for j in i.keys() if j == 9771])\n",
    "sb1['videoCount9851'] = sb1.videosCount.map(lambda x: [i for i in x for j in i.keys() if j == 9851])\n",
    "sb1['videoCount9916'] = sb1.videosCount.map(lambda x: [i for i in x for j in i.keys() if j == 9916])\n",
    "sb1['videoCount9918'] = sb1.videosCount.map(lambda x: [i for i in x for j in i.keys() if j == 9918])\n",
    "sb1['videoCount10019'] = sb1.videosCount.map(lambda x: [i for i in x for j in i.keys() if j == 10019])\n",
    "sb1['videoCount10020'] = sb1.videosCount.map(lambda x: [i for i in x for j in i.keys() if j == 10020])\n",
    "sb1['videoCount10026'] = sb1.videosCount.map(lambda x: [i for i in x for j in i.keys() if j == 10026])\n",
    "sb1['videoCount10546'] = sb1.videosCount.map(lambda x: [i for i in x for j in i.keys() if j == 10546])\n",
    "sb1['videoCount10858'] = sb1.videosCount.map(lambda x: [i for i in x for j in i.keys() if j == 10858])\n",
    "sb1['videoCount10860'] = sb1.videosCount.map(lambda x: [i for i in x for j in i.keys() if j == 10860])\n",
    "sb1['videoCount11628'] = sb1.videosCount.map(lambda x: [i for i in x for j in i.keys() if j == 11628])\n",
    "sb1['videoCount11630'] = sb1.videosCount.map(lambda x: [i for i in x for j in i.keys() if j == 11630])\n",
    "sb1['videoCount11698'] = sb1.videosCount.map(lambda x: [i for i in x for j in i.keys() if j == 11698])\n",
    "sb1['videoCount11859'] = sb1.videosCount.map(lambda x: [i for i in x for j in i.keys() if j == 11859])\n",
    "sb1['videoCount11861'] = sb1.videosCount.map(lambda x: [i for i in x for j in i.keys() if j == 11861])\n",
    "sb1['videoCount12127'] = sb1.videosCount.map(lambda x: [i for i in x for j in i.keys() if j == 12127])\n",
    "sb1['videoCount12220'] = sb1.videosCount.map(lambda x: [i for i in x for j in i.keys() if j == 12220])\n",
    "sb1['videoCount12224'] = sb1.videosCount.map(lambda x: [i for i in x for j in i.keys() if j == 12224])\n",
    "sb1['videoCount12311'] = sb1.videosCount.map(lambda x: [i for i in x for j in i.keys() if j == 12311])\n",
    "sb1['videoCount12908'] = sb1.videosCount.map(lambda x: [i for i in x for j in i.keys() if j == 12908])\n",
    "sb1['videoCount12949'] = sb1.videosCount.map(lambda x: [i for i in x for j in i.keys() if j == 12949])\n",
    "sb1['videoCount13010'] = sb1.videosCount.map(lambda x: [i for i in x for j in i.keys() if j == 13010])\n",
    "sb1['videoCount13102'] = sb1.videosCount.map(lambda x: [i for i in x for j in i.keys() if j == 13102])\n",
    "sb1['videoCount13103'] = sb1.videosCount.map(lambda x: [i for i in x for j in i.keys() if j == 13103])\n",
    "sb1['videoCount13104'] = sb1.videosCount.map(lambda x: [i for i in x for j in i.keys() if j == 13104])\n",
    "sb1['videoCount13185'] = sb1.videosCount.map(lambda x: [i for i in x for j in i.keys() if j == 13185])\n",
    "sb1['videoCount13296'] = sb1.videosCount.map(lambda x: [i for i in x for j in i.keys() if j == 13296])\n",
    "sb1['videoCount13302'] = sb1.videosCount.map(lambda x: [i for i in x for j in i.keys() if j == 13302])\n",
    "sb1['videoCount13392'] = sb1.videosCount.map(lambda x: [i for i in x for j in i.keys() if j == 13392])\n",
    "sb1['videoCount13500'] = sb1.videosCount.map(lambda x: [i for i in x for j in i.keys() if j == 13500])\n",
    "sb1['videoCount13506'] = sb1.videosCount.map(lambda x: [i for i in x for j in i.keys() if j == 13506])\n",
    "sb1['videoCount13568'] = sb1.videosCount.map(lambda x: [i for i in x for j in i.keys() if j == 13568])\n",
    "sb1['videoCount13570'] = sb1.videosCount.map(lambda x: [i for i in x for j in i.keys() if j == 13570])\n",
    "sb1['videoCount13572'] = sb1.videosCount.map(lambda x: [i for i in x for j in i.keys() if j == 13572])\n",
    "sb1['videoCount13701'] = sb1.videosCount.map(lambda x: [i for i in x for j in i.keys() if j == 13701])\n",
    "sb1['videoCount13722'] = sb1.videosCount.map(lambda x: [i for i in x for j in i.keys() if j == 13722])\n",
    "sb1['videoCount14028'] = sb1.videosCount.map(lambda x: [i for i in x for j in i.keys() if j == 14028])\n",
    "sb1['videoCount14193'] = sb1.videosCount.map(lambda x: [i for i in x for j in i.keys() if j == 14193])\n",
    "sb1['videoCount14194'] = sb1.videosCount.map(lambda x: [i for i in x for j in i.keys() if j == 14194])\n",
    "sb1['videoCount14391'] = sb1.videosCount.map(lambda x: [i for i in x for j in i.keys() if j == 14391])\n",
    "sb1['videoCount14392'] = sb1.videosCount.map(lambda x: [i for i in x for j in i.keys() if j == 14392])\n",
    "sb1['videoCount14807'] = sb1.videosCount.map(lambda x: [i for i in x for j in i.keys() if j == 14807])\n",
    "sb1['videoCount4457'] = sb1.videosCount.map(lambda x: [i for i in x for j in i.keys() if j == 4457])\n",
    "sb1['videoCount5806'] = sb1.videosCount.map(lambda x: [i for i in x for j in i.keys() if j == 5806])\n",
    "sb1['videoCount5881'] = sb1.videosCount.map(lambda x: [i for i in x for j in i.keys() if j == 5881])\n",
    "sb1['videoCount6420'] = sb1.videosCount.map(lambda x: [i for i in x for j in i.keys() if j == 6420])\n",
    "sb1['videoCount8441'] = sb1.videosCount.map(lambda x: [i for i in x for j in i.keys() if j == 8441])\n",
    "sb1['videoCount8699'] = sb1.videosCount.map(lambda x: [i for i in x for j in i.keys() if j == 8699])\n",
    "sb1['videoCount8860'] = sb1.videosCount.map(lambda x: [i for i in x for j in i.keys() if j == 8860])\n",
    "sb1['videoCount9092'] = sb1.videosCount.map(lambda x: [i for i in x for j in i.keys() if j == 9092])\n",
    "sb1['videoCount9097'] = sb1.videosCount.map(lambda x: [i for i in x for j in i.keys() if j == 9097])\n",
    "sb1['videoCount9770'] = sb1.videosCount.map(lambda x: [i for i in x for j in i.keys() if j == 9770])\n",
    "sb1['videoCount10022'] = sb1.videosCount.map(lambda x: [i for i in x for j in i.keys() if j == 10022])\n",
    "sb1['videoCount10573'] = sb1.videosCount.map(lambda x: [i for i in x for j in i.keys() if j == 10573])\n",
    "sb1['videoCount11389'] = sb1.videosCount.map(lambda x: [i for i in x for j in i.keys() if j == 11389])\n",
    "sb1['videoCount11863'] = sb1.videosCount.map(lambda x: [i for i in x for j in i.keys() if j == 11863])\n",
    "sb1['videoCount12216'] = sb1.videosCount.map(lambda x: [i for i in x for j in i.keys() if j == 12216])\n",
    "sb1['videoCount12218'] = sb1.videosCount.map(lambda x: [i for i in x for j in i.keys() if j == 12218])\n",
    "sb1['videoCount12312'] = sb1.videosCount.map(lambda x: [i for i in x for j in i.keys() if j == 12312])\n",
    "sb1['videoCount12316'] = sb1.videosCount.map(lambda x: [i for i in x for j in i.keys() if j == 12316])\n",
    "sb1['videoCount12594'] = sb1.videosCount.map(lambda x: [i for i in x for j in i.keys() if j == 12594])\n",
    "sb1['videoCount12601'] = sb1.videosCount.map(lambda x: [i for i in x for j in i.keys() if j == 12601])\n",
    "sb1['videoCount13183'] = sb1.videosCount.map(lambda x: [i for i in x for j in i.keys() if j == 13183])\n",
    "sb1['videoCount13187'] = sb1.videosCount.map(lambda x: [i for i in x for j in i.keys() if j == 13187])\n",
    "sb1['videoCount13188'] = sb1.videosCount.map(lambda x: [i for i in x for j in i.keys() if j == 13188])\n",
    "sb1['videoCount13294'] = sb1.videosCount.map(lambda x: [i for i in x for j in i.keys() if j == 13294])\n",
    "sb1['videoCount13298'] = sb1.videosCount.map(lambda x: [i for i in x for j in i.keys() if j == 13298])\n",
    "sb1['videoCount13390'] = sb1.videosCount.map(lambda x: [i for i in x for j in i.keys() if j == 13390])\n",
    "sb1['videoCount13394'] = sb1.videosCount.map(lambda x: [i for i in x for j in i.keys() if j == 13394])\n",
    "sb1['videoCount13507'] = sb1.videosCount.map(lambda x: [i for i in x for j in i.keys() if j == 13507])\n",
    "sb1['videoCount13566'] = sb1.videosCount.map(lambda x: [i for i in x for j in i.keys() if j == 13566])\n",
    "sb1['videoCount13729'] = sb1.videosCount.map(lambda x: [i for i in x for j in i.keys() if j == 13729])\n",
    "sb1['videoCount13736'] = sb1.videosCount.map(lambda x: [i for i in x for j in i.keys() if j == 13736])\n",
    "sb1['videoCount14026'] = sb1.videosCount.map(lambda x: [i for i in x for j in i.keys() if j == 14026])\n",
    "sb1['videoCount14031'] = sb1.videosCount.map(lambda x: [i for i in x for j in i.keys() if j == 14031])\n",
    "sb1['videoCount14192'] = sb1.videosCount.map(lambda x: [i for i in x for j in i.keys() if j == 14192])\n",
    "sb1['videoCount14394'] = sb1.videosCount.map(lambda x: [i for i in x for j in i.keys() if j == 14394])\n",
    "sb1['videoCount14706'] = sb1.videosCount.map(lambda x: [i for i in x for j in i.keys() if j == 14706])\n",
    "sb1['videoCount15055'] = sb1.videosCount.map(lambda x: [i for i in x for j in i.keys() if j == 15055])\n",
    "sb1['videoCount4165'] = sb1.videosCount.map(lambda x: [i for i in x for j in i.keys() if j == 4165])\n",
    "sb1['videoCount5021'] = sb1.videosCount.map(lambda x: [i for i in x for j in i.keys() if j == 5021])\n",
    "sb1['videoCount10564'] = sb1.videosCount.map(lambda x: [i for i in x for j in i.keys() if j == 10564])\n",
    "sb1['videoCount10586'] = sb1.videosCount.map(lambda x: [i for i in x for j in i.keys() if j == 10586])\n",
    "sb1['videoCount11387'] = sb1.videosCount.map(lambda x: [i for i in x for j in i.keys() if j == 11387])\n",
    "sb1['videoCount11624'] = sb1.videosCount.map(lambda x: [i for i in x for j in i.keys() if j == 11624])\n",
    "sb1['videoCount11853'] = sb1.videosCount.map(lambda x: [i for i in x for j in i.keys() if j == 11853])\n",
    "sb1['videoCount11855'] = sb1.videosCount.map(lambda x: [i for i in x for j in i.keys() if j == 11855])\n",
    "sb1['videoCount12214'] = sb1.videosCount.map(lambda x: [i for i in x for j in i.keys() if j == 12214])\n",
    "sb1['videoCount12665'] = sb1.videosCount.map(lambda x: [i for i in x for j in i.keys() if j == 12665])\n",
    "sb1['videoCount12740'] = sb1.videosCount.map(lambda x: [i for i in x for j in i.keys() if j == 12740])\n",
    "sb1['videoCount13354'] = sb1.videosCount.map(lambda x: [i for i in x for j in i.keys() if j == 13354])"
   ]
  },
  {
   "cell_type": "code",
   "execution_count": 29,
   "metadata": {
    "collapsed": true
   },
   "outputs": [],
   "source": [
    "seriesList = [sb1.videoCount3940.map(lambda x: [j for i in x for j in i.values()]),\n",
    "sb1.videoCount4220.map(lambda x: [j for i in x for j in i.values()]),\n",
    "sb1.videoCount3585.map(lambda x: [j for i in x for j in i.values()]),\n",
    "sb1.videoCount4336.map(lambda x: [j for i in x for j in i.values()]),\n",
    "sb1.videoCount8456.map(lambda x: [j for i in x for j in i.values()]),\n",
    "sb1.videoCount4561.map(lambda x: [j for i in x for j in i.values()]),\n",
    "sb1.videoCount4974.map(lambda x: [j for i in x for j in i.values()]),\n",
    "sb1.videoCount10301.map(lambda x: [j for i in x for j in i.values()]),\n",
    "sb1.videoCount10201.map(lambda x: [j for i in x for j in i.values()]),\n",
    "sb1.videoCount10459.map(lambda x: [j for i in x for j in i.values()]),\n",
    "sb1.videoCount10249.map(lambda x: [j for i in x for j in i.values()]),\n",
    "sb1.videoCount13498.map(lambda x: [j for i in x for j in i.values()]),\n",
    "sb1.videoCount3791.map(lambda x: [j for i in x for j in i.values()]),\n",
    "sb1.videoCount5085.map(lambda x: [j for i in x for j in i.values()]),\n",
    "sb1.videoCount5845.map(lambda x: [j for i in x for j in i.values()]),\n",
    "sb1.videoCount10589.map(lambda x: [j for i in x for j in i.values()]),\n",
    "sb1.videoCount12951.map(lambda x: [j for i in x for j in i.values()]),\n",
    "sb1.videoCount7130.map(lambda x: [j for i in x for j in i.values()]),\n",
    "sb1.videoCount9751.map(lambda x: [j for i in x for j in i.values()]),\n",
    "sb1.videoCount11700.map(lambda x: [j for i in x for j in i.values()]),\n",
    "sb1.videoCount12318.map(lambda x: [j for i in x for j in i.values()]),\n",
    "sb1.videoCount12605.map(lambda x: [j for i in x for j in i.values()]),\n",
    "sb1.videoCount12675.map(lambda x: [j for i in x for j in i.values()]),\n",
    "sb1.videoCount3649.map(lambda x: [j for i in x for j in i.values()]),\n",
    "sb1.videoCount3711.map(lambda x: [j for i in x for j in i.values()]),\n",
    "sb1.videoCount4215.map(lambda x: [j for i in x for j in i.values()]),\n",
    "sb1.videoCount6781.map(lambda x: [j for i in x for j in i.values()]),\n",
    "sb1.videoCount9769.map(lambda x: [j for i in x for j in i.values()]),\n",
    "sb1.videoCount10177.map(lambda x: [j for i in x for j in i.values()]),\n",
    "sb1.videoCount12669.map(lambda x: [j for i in x for j in i.values()]),\n",
    "sb1.videoCount12912.map(lambda x: [j for i in x for j in i.values()]),\n",
    "sb1.videoCount14292.map(lambda x: [j for i in x for j in i.values()]),\n",
    "sb1.videoCount14708.map(lambda x: [j for i in x for j in i.values()]),\n",
    "sb1.videoCount3693.map(lambda x: [j for i in x for j in i.values()]),\n",
    "sb1.videoCount4200.map(lambda x: [j for i in x for j in i.values()]),\n",
    "sb1.videoCount4332.map(lambda x: [j for i in x for j in i.values()]),\n",
    "sb1.videoCount4424.map(lambda x: [j for i in x for j in i.values()]),\n",
    "sb1.videoCount4802.map(lambda x: [j for i in x for j in i.values()]),\n",
    "sb1.videoCount5194.map(lambda x: [j for i in x for j in i.values()]),\n",
    "sb1.videoCount5895.map(lambda x: [j for i in x for j in i.values()]),\n",
    "sb1.videoCount8457.map(lambda x: [j for i in x for j in i.values()]),\n",
    "sb1.videoCount8545.map(lambda x: [j for i in x for j in i.values()]),\n",
    "sb1.videoCount8918.map(lambda x: [j for i in x for j in i.values()]),\n",
    "sb1.videoCount9625.map(lambda x: [j for i in x for j in i.values()]),\n",
    "sb1.videoCount9850.map(lambda x: [j for i in x for j in i.values()]),\n",
    "sb1.videoCount10023.map(lambda x: [j for i in x for j in i.values()]),\n",
    "sb1.videoCount10455.map(lambda x: [j for i in x for j in i.values()]),\n",
    "sb1.videoCount10457.map(lambda x: [j for i in x for j in i.values()]),\n",
    "sb1.videoCount10535.map(lambda x: [j for i in x for j in i.values()]),\n",
    "sb1.videoCount10568.map(lambda x: [j for i in x for j in i.values()]),\n",
    "sb1.videoCount12129.map(lambda x: [j for i in x for j in i.values()]),\n",
    "sb1.videoCount12134.map(lambda x: [j for i in x for j in i.values()]),\n",
    "sb1.videoCount12597.map(lambda x: [j for i in x for j in i.values()]),\n",
    "sb1.videoCount12603.map(lambda x: [j for i in x for j in i.values()]),\n",
    "sb1.videoCount12943.map(lambda x: [j for i in x for j in i.values()]),\n",
    "sb1.videoCount13002.map(lambda x: [j for i in x for j in i.values()]),\n",
    "sb1.videoCount13300.map(lambda x: [j for i in x for j in i.values()]),\n",
    "sb1.videoCount13388.map(lambda x: [j for i in x for j in i.values()]),\n",
    "sb1.videoCount14710.map(lambda x: [j for i in x for j in i.values()]),\n",
    "sb1.videoCount14712.map(lambda x: [j for i in x for j in i.values()]),\n",
    "sb1.videoCount2093.map(lambda x: [j for i in x for j in i.values()]),\n",
    "sb1.videoCount3589.map(lambda x: [j for i in x for j in i.values()]),\n",
    "sb1.videoCount3913.map(lambda x: [j for i in x for j in i.values()]),\n",
    "sb1.videoCount4013.map(lambda x: [j for i in x for j in i.values()]),\n",
    "sb1.videoCount4163.map(lambda x: [j for i in x for j in i.values()]),\n",
    "sb1.videoCount4968.map(lambda x: [j for i in x for j in i.values()]),\n",
    "sb1.videoCount5797.map(lambda x: [j for i in x for j in i.values()]),\n",
    "sb1.videoCount8701.map(lambda x: [j for i in x for j in i.values()]),\n",
    "sb1.videoCount8717.map(lambda x: [j for i in x for j in i.values()]),\n",
    "sb1.videoCount9578.map(lambda x: [j for i in x for j in i.values()]),\n",
    "sb1.videoCount9626.map(lambda x: [j for i in x for j in i.values()]),\n",
    "sb1.videoCount10073.map(lambda x: [j for i in x for j in i.values()]),\n",
    "sb1.videoCount10074.map(lambda x: [j for i in x for j in i.values()]),\n",
    "sb1.videoCount10250.map(lambda x: [j for i in x for j in i.values()]),\n",
    "sb1.videoCount10257.map(lambda x: [j for i in x for j in i.values()]),\n",
    "sb1.videoCount10308.map(lambda x: [j for i in x for j in i.values()]),\n",
    "sb1.videoCount10537.map(lambda x: [j for i in x for j in i.values()]),\n",
    "sb1.videoCount10543.map(lambda x: [j for i in x for j in i.values()]),\n",
    "sb1.videoCount10570.map(lambda x: [j for i in x for j in i.values()]),\n",
    "sb1.videoCount11385.map(lambda x: [j for i in x for j in i.values()]),\n",
    "sb1.videoCount11399.map(lambda x: [j for i in x for j in i.values()]),\n",
    "sb1.videoCount11429.map(lambda x: [j for i in x for j in i.values()]),\n",
    "sb1.videoCount11580.map(lambda x: [j for i in x for j in i.values()]),\n",
    "sb1.videoCount11695.map(lambda x: [j for i in x for j in i.values()]),\n",
    "sb1.videoCount12060.map(lambda x: [j for i in x for j in i.values()]),\n",
    "sb1.videoCount12671.map(lambda x: [j for i in x for j in i.values()]),\n",
    "sb1.videoCount12673.map(lambda x: [j for i in x for j in i.values()]),\n",
    "sb1.videoCount12910.map(lambda x: [j for i in x for j in i.values()]),\n",
    "sb1.videoCount13564.map(lambda x: [j for i in x for j in i.values()]),\n",
    "sb1.videoCount13574.map(lambda x: [j for i in x for j in i.values()]),\n",
    "sb1.videoCount13703.map(lambda x: [j for i in x for j in i.values()]),\n",
    "sb1.videoCount13724.map(lambda x: [j for i in x for j in i.values()]),\n",
    "sb1.videoCount13726.map(lambda x: [j for i in x for j in i.values()]),\n",
    "sb1.videoCount14208.map(lambda x: [j for i in x for j in i.values()]),\n",
    "sb1.videoCount14393.map(lambda x: [j for i in x for j in i.values()]),\n",
    "sb1.videoCount14707.map(lambda x: [j for i in x for j in i.values()]),\n",
    "sb1.videoCount3762.map(lambda x: [j for i in x for j in i.values()]),\n",
    "sb1.videoCount4522.map(lambda x: [j for i in x for j in i.values()]),\n",
    "sb1.videoCount7184.map(lambda x: [j for i in x for j in i.values()]),\n",
    "sb1.videoCount8199.map(lambda x: [j for i in x for j in i.values()]),\n",
    "sb1.videoCount8859.map(lambda x: [j for i in x for j in i.values()]),\n",
    "sb1.videoCount9091.map(lambda x: [j for i in x for j in i.values()]),\n",
    "sb1.videoCount9582.map(lambda x: [j for i in x for j in i.values()]),\n",
    "sb1.videoCount9584.map(lambda x: [j for i in x for j in i.values()]),\n",
    "sb1.videoCount10021.map(lambda x: [j for i in x for j in i.values()]),\n",
    "sb1.videoCount10303.map(lambda x: [j for i in x for j in i.values()]),\n",
    "sb1.videoCount10540.map(lambda x: [j for i in x for j in i.values()]),\n",
    "sb1.videoCount10565.map(lambda x: [j for i in x for j in i.values()]),\n",
    "sb1.videoCount11406.map(lambda x: [j for i in x for j in i.values()]),\n",
    "sb1.videoCount11618.map(lambda x: [j for i in x for j in i.values()]),\n",
    "sb1.videoCount11621.map(lambda x: [j for i in x for j in i.values()]),\n",
    "sb1.videoCount11857.map(lambda x: [j for i in x for j in i.values()]),\n",
    "sb1.videoCount12062.map(lambda x: [j for i in x for j in i.values()]),\n",
    "sb1.videoCount12222.map(lambda x: [j for i in x for j in i.values()]),\n",
    "sb1.videoCount12593.map(lambda x: [j for i in x for j in i.values()]),\n",
    "sb1.videoCount12667.map(lambda x: [j for i in x for j in i.values()]),\n",
    "sb1.videoCount12947.map(lambda x: [j for i in x for j in i.values()]),\n",
    "sb1.videoCount12984.map(lambda x: [j for i in x for j in i.values()]),\n",
    "sb1.videoCount12986.map(lambda x: [j for i in x for j in i.values()]),\n",
    "sb1.videoCount13004.map(lambda x: [j for i in x for j in i.values()]),\n",
    "sb1.videoCount13290.map(lambda x: [j for i in x for j in i.values()]),\n",
    "sb1.videoCount13292.map(lambda x: [j for i in x for j in i.values()]),\n",
    "sb1.videoCount13705.map(lambda x: [j for i in x for j in i.values()]),\n",
    "sb1.videoCount13731.map(lambda x: [j for i in x for j in i.values()]),\n",
    "sb1.videoCount14033.map(lambda x: [j for i in x for j in i.values()]),\n",
    "sb1.videoCount14293.map(lambda x: [j for i in x for j in i.values()]),\n",
    "sb1.videoCount14294.map(lambda x: [j for i in x for j in i.values()]),\n",
    "sb1.videoCount14709.map(lambda x: [j for i in x for j in i.values()]),\n",
    "sb1.videoCount50.map(lambda x: [j for i in x for j in i.values()]),\n",
    "sb1.videoCount5186.map(lambda x: [j for i in x for j in i.values()]),\n",
    "sb1.videoCount5433.map(lambda x: [j for i in x for j in i.values()]),\n",
    "sb1.videoCount5793.map(lambda x: [j for i in x for j in i.values()]),\n",
    "sb1.videoCount6061.map(lambda x: [j for i in x for j in i.values()]),\n",
    "sb1.videoCount6151.map(lambda x: [j for i in x for j in i.values()]),\n",
    "sb1.videoCount6460.map(lambda x: [j for i in x for j in i.values()]),\n",
    "sb1.videoCount6521.map(lambda x: [j for i in x for j in i.values()]),\n",
    "sb1.videoCount7126.map(lambda x: [j for i in x for j in i.values()]),\n",
    "sb1.videoCount8200.map(lambda x: [j for i in x for j in i.values()]),\n",
    "sb1.videoCount8547.map(lambda x: [j for i in x for j in i.values()]),\n",
    "sb1.videoCount8700.map(lambda x: [j for i in x for j in i.values()]),\n",
    "sb1.videoCount8854.map(lambda x: [j for i in x for j in i.values()]),\n",
    "sb1.videoCount8917.map(lambda x: [j for i in x for j in i.values()]),\n",
    "sb1.videoCount8919.map(lambda x: [j for i in x for j in i.values()]),\n",
    "sb1.videoCount9580.map(lambda x: [j for i in x for j in i.values()]),\n",
    "sb1.videoCount9771.map(lambda x: [j for i in x for j in i.values()]),\n",
    "sb1.videoCount9851.map(lambda x: [j for i in x for j in i.values()]),\n",
    "sb1.videoCount9916.map(lambda x: [j for i in x for j in i.values()]),\n",
    "sb1.videoCount9918.map(lambda x: [j for i in x for j in i.values()]),\n",
    "sb1.videoCount10019.map(lambda x: [j for i in x for j in i.values()]),\n",
    "sb1.videoCount10020.map(lambda x: [j for i in x for j in i.values()]),\n",
    "sb1.videoCount10026.map(lambda x: [j for i in x for j in i.values()]),\n",
    "sb1.videoCount10546.map(lambda x: [j for i in x for j in i.values()]),\n",
    "sb1.videoCount10858.map(lambda x: [j for i in x for j in i.values()]),\n",
    "sb1.videoCount10860.map(lambda x: [j for i in x for j in i.values()]),\n",
    "sb1.videoCount11628.map(lambda x: [j for i in x for j in i.values()]),\n",
    "sb1.videoCount11630.map(lambda x: [j for i in x for j in i.values()]),\n",
    "sb1.videoCount11698.map(lambda x: [j for i in x for j in i.values()]),\n",
    "sb1.videoCount11859.map(lambda x: [j for i in x for j in i.values()]),\n",
    "sb1.videoCount11861.map(lambda x: [j for i in x for j in i.values()]),\n",
    "sb1.videoCount12127.map(lambda x: [j for i in x for j in i.values()]),\n",
    "sb1.videoCount12220.map(lambda x: [j for i in x for j in i.values()]),\n",
    "sb1.videoCount12224.map(lambda x: [j for i in x for j in i.values()]),\n",
    "sb1.videoCount12311.map(lambda x: [j for i in x for j in i.values()]),\n",
    "sb1.videoCount12908.map(lambda x: [j for i in x for j in i.values()]),\n",
    "sb1.videoCount12949.map(lambda x: [j for i in x for j in i.values()]),\n",
    "sb1.videoCount13010.map(lambda x: [j for i in x for j in i.values()]),\n",
    "sb1.videoCount13102.map(lambda x: [j for i in x for j in i.values()]),\n",
    "sb1.videoCount13103.map(lambda x: [j for i in x for j in i.values()]),\n",
    "sb1.videoCount13104.map(lambda x: [j for i in x for j in i.values()]),\n",
    "sb1.videoCount13185.map(lambda x: [j for i in x for j in i.values()]),\n",
    "sb1.videoCount13296.map(lambda x: [j for i in x for j in i.values()]),\n",
    "sb1.videoCount13302.map(lambda x: [j for i in x for j in i.values()]),\n",
    "sb1.videoCount13392.map(lambda x: [j for i in x for j in i.values()]),\n",
    "sb1.videoCount13500.map(lambda x: [j for i in x for j in i.values()]),\n",
    "sb1.videoCount13506.map(lambda x: [j for i in x for j in i.values()]),\n",
    "sb1.videoCount13568.map(lambda x: [j for i in x for j in i.values()]),\n",
    "sb1.videoCount13570.map(lambda x: [j for i in x for j in i.values()]),\n",
    "sb1.videoCount13572.map(lambda x: [j for i in x for j in i.values()]),\n",
    "sb1.videoCount13701.map(lambda x: [j for i in x for j in i.values()]),\n",
    "sb1.videoCount13722.map(lambda x: [j for i in x for j in i.values()]),\n",
    "sb1.videoCount14028.map(lambda x: [j for i in x for j in i.values()]),\n",
    "sb1.videoCount14193.map(lambda x: [j for i in x for j in i.values()]),\n",
    "sb1.videoCount14194.map(lambda x: [j for i in x for j in i.values()]),\n",
    "sb1.videoCount14391.map(lambda x: [j for i in x for j in i.values()]),\n",
    "sb1.videoCount14392.map(lambda x: [j for i in x for j in i.values()]),\n",
    "sb1.videoCount14807.map(lambda x: [j for i in x for j in i.values()]),\n",
    "sb1.videoCount4457.map(lambda x: [j for i in x for j in i.values()]),\n",
    "sb1.videoCount5806.map(lambda x: [j for i in x for j in i.values()]),\n",
    "sb1.videoCount5881.map(lambda x: [j for i in x for j in i.values()]),\n",
    "sb1.videoCount6420.map(lambda x: [j for i in x for j in i.values()]),\n",
    "sb1.videoCount8441.map(lambda x: [j for i in x for j in i.values()]),\n",
    "sb1.videoCount8699.map(lambda x: [j for i in x for j in i.values()]),\n",
    "sb1.videoCount8860.map(lambda x: [j for i in x for j in i.values()]),\n",
    "sb1.videoCount9092.map(lambda x: [j for i in x for j in i.values()]),\n",
    "sb1.videoCount9097.map(lambda x: [j for i in x for j in i.values()]),\n",
    "sb1.videoCount9770.map(lambda x: [j for i in x for j in i.values()]),\n",
    "sb1.videoCount10022.map(lambda x: [j for i in x for j in i.values()]),\n",
    "sb1.videoCount10573.map(lambda x: [j for i in x for j in i.values()]),\n",
    "sb1.videoCount11389.map(lambda x: [j for i in x for j in i.values()]),\n",
    "sb1.videoCount11863.map(lambda x: [j for i in x for j in i.values()]),\n",
    "sb1.videoCount12216.map(lambda x: [j for i in x for j in i.values()]),\n",
    "sb1.videoCount12218.map(lambda x: [j for i in x for j in i.values()]),\n",
    "sb1.videoCount12312.map(lambda x: [j for i in x for j in i.values()]),\n",
    "sb1.videoCount12316.map(lambda x: [j for i in x for j in i.values()]),\n",
    "sb1.videoCount12594.map(lambda x: [j for i in x for j in i.values()]),\n",
    "sb1.videoCount12601.map(lambda x: [j for i in x for j in i.values()]),\n",
    "sb1.videoCount13183.map(lambda x: [j for i in x for j in i.values()]),\n",
    "sb1.videoCount13187.map(lambda x: [j for i in x for j in i.values()]),\n",
    "sb1.videoCount13188.map(lambda x: [j for i in x for j in i.values()]),\n",
    "sb1.videoCount13294.map(lambda x: [j for i in x for j in i.values()]),\n",
    "sb1.videoCount13298.map(lambda x: [j for i in x for j in i.values()]),\n",
    "sb1.videoCount13390.map(lambda x: [j for i in x for j in i.values()]),\n",
    "sb1.videoCount13394.map(lambda x: [j for i in x for j in i.values()]),\n",
    "sb1.videoCount13507.map(lambda x: [j for i in x for j in i.values()]),\n",
    "sb1.videoCount13566.map(lambda x: [j for i in x for j in i.values()]),\n",
    "sb1.videoCount13729.map(lambda x: [j for i in x for j in i.values()]),\n",
    "sb1.videoCount13736.map(lambda x: [j for i in x for j in i.values()]),\n",
    "sb1.videoCount14026.map(lambda x: [j for i in x for j in i.values()]),\n",
    "sb1.videoCount14031.map(lambda x: [j for i in x for j in i.values()]),\n",
    "sb1.videoCount14192.map(lambda x: [j for i in x for j in i.values()]),\n",
    "sb1.videoCount14394.map(lambda x: [j for i in x for j in i.values()]),\n",
    "sb1.videoCount14706.map(lambda x: [j for i in x for j in i.values()]),\n",
    "sb1.videoCount15055.map(lambda x: [j for i in x for j in i.values()]),\n",
    "sb1.videoCount4165.map(lambda x: [j for i in x for j in i.values()]),\n",
    "sb1.videoCount5021.map(lambda x: [j for i in x for j in i.values()]),\n",
    "sb1.videoCount10564.map(lambda x: [j for i in x for j in i.values()]),\n",
    "sb1.videoCount10586.map(lambda x: [j for i in x for j in i.values()]),\n",
    "sb1.videoCount11387.map(lambda x: [j for i in x for j in i.values()]),\n",
    "sb1.videoCount11624.map(lambda x: [j for i in x for j in i.values()]),\n",
    "sb1.videoCount11853.map(lambda x: [j for i in x for j in i.values()]),\n",
    "sb1.videoCount11855.map(lambda x: [j for i in x for j in i.values()]),\n",
    "sb1.videoCount12214.map(lambda x: [j for i in x for j in i.values()]),\n",
    "sb1.videoCount12665.map(lambda x: [j for i in x for j in i.values()]),\n",
    "sb1.videoCount12740.map(lambda x: [j for i in x for j in i.values()]),\n",
    "sb1.videoCount13354.map(lambda x: [j for i in x for j in i.values()])]"
   ]
  },
  {
   "cell_type": "code",
   "execution_count": 30,
   "metadata": {
    "collapsed": true
   },
   "outputs": [],
   "source": [
    "def countValue(series):\n",
    "    cnt = []\n",
    "    for i in series:\n",
    "        if i == []:\n",
    "            continue\n",
    "        else:\n",
    "            cnt.append(int(i[0]))\n",
    "    if not cnt: #if nobody watched a video from the postId\n",
    "        cnt = 0\n",
    "\n",
    "    return(np.min(cnt), np.max(cnt))"
   ]
  },
  {
   "cell_type": "code",
   "execution_count": 31,
   "metadata": {
    "collapsed": true
   },
   "outputs": [],
   "source": [
    "min_max = []\n",
    "for i in seriesList:\n",
    "    min_max.append(countValue(i))"
   ]
  },
  {
   "cell_type": "code",
   "execution_count": 32,
   "metadata": {
    "collapsed": true
   },
   "outputs": [],
   "source": [
    "#is there min and max that's not equal?? NONE\n",
    "notequal = []\n",
    "for i in min_max:\n",
    "    if i[0] != i[1]:\n",
    "        notequal.append(i)"
   ]
  },
  {
   "cell_type": "code",
   "execution_count": 34,
   "metadata": {
    "collapsed": false
   },
   "outputs": [
    {
     "data": {
      "text/plain": [
       "[]"
      ]
     },
     "execution_count": 34,
     "metadata": {},
     "output_type": "execute_result"
    }
   ],
   "source": [
    "notequal"
   ]
  },
  {
   "cell_type": "code",
   "execution_count": 35,
   "metadata": {
    "collapsed": false
   },
   "outputs": [
    {
     "name": "stderr",
     "output_type": "stream",
     "text": [
      "C:\\Users\\rdolor\\Anaconda3\\lib\\site-packages\\ipykernel\\__main__.py:2: FutureWarning: sort(columns=....) is deprecated, use sort_values(by=.....)\n",
      "  from ipykernel import kernelapp as app\n"
     ]
    }
   ],
   "source": [
    "#sort video by descending sectionLegth\n",
    "vid = vid.sort(['sectionLength'],ascending=[0])\n",
    "vid = vid.reset_index(drop=True)"
   ]
  },
  {
   "cell_type": "code",
   "execution_count": 36,
   "metadata": {
    "collapsed": false
   },
   "outputs": [
    {
     "data": {
      "text/html": [
       "<div>\n",
       "<table border=\"1\" class=\"dataframe\">\n",
       "  <thead>\n",
       "    <tr style=\"text-align: right;\">\n",
       "      <th></th>\n",
       "      <th>Unnamed: 0</th>\n",
       "      <th>postId</th>\n",
       "      <th>wordLevel</th>\n",
       "      <th>videoSpeed</th>\n",
       "      <th>subtitleLengthRatio</th>\n",
       "      <th>sectionLength</th>\n",
       "      <th>wordList</th>\n",
       "    </tr>\n",
       "  </thead>\n",
       "  <tbody>\n",
       "    <tr>\n",
       "      <th>0</th>\n",
       "      <td>22</td>\n",
       "      <td>3940</td>\n",
       "      <td>27.86</td>\n",
       "      <td>13.67</td>\n",
       "      <td>0.19</td>\n",
       "      <td>28</td>\n",
       "      <td>[life, is, about, opportunities, creating, the...</td>\n",
       "    </tr>\n",
       "    <tr>\n",
       "      <th>1</th>\n",
       "      <td>12</td>\n",
       "      <td>4220</td>\n",
       "      <td>36.75</td>\n",
       "      <td>12.78</td>\n",
       "      <td>0.44</td>\n",
       "      <td>26</td>\n",
       "      <td>[president, faust, members, of, the, harvard, ...</td>\n",
       "    </tr>\n",
       "    <tr>\n",
       "      <th>2</th>\n",
       "      <td>50</td>\n",
       "      <td>3585</td>\n",
       "      <td>20.22</td>\n",
       "      <td>13.15</td>\n",
       "      <td>0.11</td>\n",
       "      <td>21</td>\n",
       "      <td>[probably, seen, one, of, these, a, lego, bric...</td>\n",
       "    </tr>\n",
       "    <tr>\n",
       "      <th>3</th>\n",
       "      <td>8</td>\n",
       "      <td>4336</td>\n",
       "      <td>26.30</td>\n",
       "      <td>13.45</td>\n",
       "      <td>0.45</td>\n",
       "      <td>16</td>\n",
       "      <td>[researchers, have, been, studying, in, the, f...</td>\n",
       "    </tr>\n",
       "    <tr>\n",
       "      <th>4</th>\n",
       "      <td>38</td>\n",
       "      <td>8456</td>\n",
       "      <td>20.16</td>\n",
       "      <td>14.79</td>\n",
       "      <td>0.43</td>\n",
       "      <td>15</td>\n",
       "      <td>[saying, not, any, college, go, school, this, ...</td>\n",
       "    </tr>\n",
       "  </tbody>\n",
       "</table>\n",
       "</div>"
      ],
      "text/plain": [
       "   Unnamed: 0  postId  wordLevel  videoSpeed  subtitleLengthRatio  \\\n",
       "0          22    3940      27.86       13.67                 0.19   \n",
       "1          12    4220      36.75       12.78                 0.44   \n",
       "2          50    3585      20.22       13.15                 0.11   \n",
       "3           8    4336      26.30       13.45                 0.45   \n",
       "4          38    8456      20.16       14.79                 0.43   \n",
       "\n",
       "   sectionLength                                           wordList  \n",
       "0             28  [life, is, about, opportunities, creating, the...  \n",
       "1             26  [president, faust, members, of, the, harvard, ...  \n",
       "2             21  [probably, seen, one, of, these, a, lego, bric...  \n",
       "3             16  [researchers, have, been, studying, in, the, f...  \n",
       "4             15  [saying, not, any, college, go, school, this, ...  "
      ]
     },
     "execution_count": 36,
     "metadata": {},
     "output_type": "execute_result"
    }
   ],
   "source": [
    "vid[:5]"
   ]
  },
  {
   "cell_type": "code",
   "execution_count": 38,
   "metadata": {
    "collapsed": false
   },
   "outputs": [],
   "source": [
    "#is there min/max not equal to the sectionLength?\n",
    "sectionLength = list(vid.sectionLength)\n",
    "notequal = []\n",
    "for i in range(len(min_max)):\n",
    "    if min_max[i][1] != sectionLength[i]: #min_max[i][1] gets max (well,  min & max are equal anyway)\n",
    "        notequal.append((i,min_max[i][1],sectionLength[i]))"
   ]
  },
  {
   "cell_type": "code",
   "execution_count": 39,
   "metadata": {
    "collapsed": false
   },
   "outputs": [
    {
     "data": {
      "text/plain": [
       "[(58, 0, 6), (127, 0, 4), (185, 0, 3), (222, 0, 2)]"
      ]
     },
     "execution_count": 39,
     "metadata": {},
     "output_type": "execute_result"
    }
   ],
   "source": [
    "notequal"
   ]
  },
  {
   "cell_type": "markdown",
   "metadata": {},
   "source": [
    "### Answer (1): There are only 4 videos which do not have the same sectionLength and count of times  that the members watched them. In these cases, it means that  no member  watched any of these videos. For other videos, the way they appear in the listenScore seems to be arranged by subsection and for each subsection they should be watched just ONCE. When score is -1, this means that the member has not done the test yet for that particular subsection. This could also mean that, a test can only be taken ONCE per subsection OR the most recent score is taken by the system so that whenever a member repeats the same test,  only the recent result is saved (?)."
   ]
  },
  {
   "cell_type": "code",
   "execution_count": null,
   "metadata": {
    "collapsed": true
   },
   "outputs": [],
   "source": []
  }
 ],
 "metadata": {
  "anaconda-cloud": {},
  "kernelspec": {
   "display_name": "Python [Root]",
   "language": "python",
   "name": "Python [Root]"
  },
  "language_info": {
   "codemirror_mode": {
    "name": "ipython",
    "version": 3
   },
   "file_extension": ".py",
   "mimetype": "text/x-python",
   "name": "python",
   "nbconvert_exporter": "python",
   "pygments_lexer": "ipython3",
   "version": "3.5.2"
  }
 },
 "nbformat": 4,
 "nbformat_minor": 0
}
